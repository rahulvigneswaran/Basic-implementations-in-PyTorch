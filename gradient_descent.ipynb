{
  "nbformat": 4,
  "nbformat_minor": 0,
  "metadata": {
    "colab": {
      "name": "gradient_descent.ipynb",
      "provenance": [],
      "authorship_tag": "ABX9TyMi8jgse8uipRGeJ5NO9kjF",
      "include_colab_link": true
    },
    "kernelspec": {
      "name": "python3",
      "display_name": "Python 3"
    },
    "accelerator": "GPU"
  },
  "cells": [
    {
      "cell_type": "markdown",
      "metadata": {
        "id": "view-in-github",
        "colab_type": "text"
      },
      "source": [
        "<a href=\"https://colab.research.google.com/github/rahulvigneswaran/Basic-implementations-in-PyTorch/blob/master/gradient_descent.ipynb\" target=\"_parent\"><img src=\"https://colab.research.google.com/assets/colab-badge.svg\" alt=\"Open In Colab\"/></a>"
      ]
    },
    {
      "cell_type": "code",
      "metadata": {
        "id": "6GITqzhzC0IN",
        "colab_type": "code",
        "colab": {}
      },
      "source": [
        "# Importing Libraries\n",
        "from random import gauss\n",
        "import numpy as np\n",
        "import matplotlib.pyplot as plt\n",
        "%matplotlib inline"
      ],
      "execution_count": 0,
      "outputs": []
    },
    {
      "cell_type": "code",
      "metadata": {
        "id": "-GacJSt68ban",
        "colab_type": "code",
        "colab": {}
      },
      "source": [
        "# Forward Pass\n",
        "def forward(x, w):\n",
        "  return x*w\n",
        "\n",
        "# Loss function\n",
        "def loss(x,y,w):\n",
        "  y_pred = forward(x, w)\n",
        "  return (y_pred - y)*(y_pred - y)\n",
        "\n",
        "# Compute Gradient\n",
        "def grad(w, x_val, y_val):\n",
        "  return 2*(x_val)*(x_val*w - y_val)"
      ],
      "execution_count": 0,
      "outputs": []
    },
    {
      "cell_type": "code",
      "metadata": {
        "id": "-KeCYDSRGbxN",
        "colab_type": "code",
        "colab": {}
      },
      "source": [
        "# Dataset\n",
        "x_data = np.random.randint(2, size=10)\n",
        "y_data = np.random.randint(5, size=10)"
      ],
      "execution_count": 0,
      "outputs": []
    },
    {
      "cell_type": "code",
      "metadata": {
        "id": "3TMYWxsvGe_1",
        "colab_type": "code",
        "colab": {}
      },
      "source": [
        "# Initializing lists\n",
        "loss_all = []\n",
        "w_all = []"
      ],
      "execution_count": 0,
      "outputs": []
    },
    {
      "cell_type": "code",
      "metadata": {
        "id": "Wd-tbRXXGgzt",
        "colab_type": "code",
        "colab": {}
      },
      "source": [
        "# Calculating loss for a range of weights \"w\"\n",
        "for w in np.arange(0.0, 4.1, 0.1):\n",
        "  l_sum = 0\n",
        "  for x_val, y_val in zip(x_data, y_data):\n",
        "    l = loss(x_val,y_val,w)\n",
        "    l_sum += l\n",
        "  loss_all.append(l_sum / len(x_data))  \n",
        "  w_all.append(w)"
      ],
      "execution_count": 0,
      "outputs": []
    },
    {
      "cell_type": "code",
      "metadata": {
        "id": "jFqLvTRZGlie",
        "colab_type": "code",
        "colab": {
          "base_uri": "https://localhost:8080/",
          "height": 279
        },
        "outputId": "2674434e-46f6-4f79-f908-e9fa9440f61f"
      },
      "source": [
        "# Plotting weight vs loss\n",
        "plt.plot(w_all,loss_all, label=\"Loss\")\n",
        "plt.xlabel(\"Weights\")\n",
        "plt.ylabel(\"Loss\")\n",
        "plt.grid(\"on\")\n",
        "plt.legend()\n",
        "plt.show()"
      ],
      "execution_count": 259,
      "outputs": [
        {
          "output_type": "display_data",
          "data": {
            "image/png": "[encoded data removed]",
            "text/plain": [
              "<Figure size 432x288 with 1 Axes>"
            ]
          },
          "metadata": {
            "tags": []
          }
        }
      ]
    },
    {
      "cell_type": "code",
      "metadata": {
        "id": "8C4pdMgSJ7jn",
        "colab_type": "code",
        "colab": {}
      },
      "source": [
        "loss_all = []\n",
        "w_all = []\n",
        "step = []\n",
        "accuracy_all = []\n",
        "\n",
        "# Start with Random weight \"w\" selected from a Gaussian Distribution\n",
        "w = gauss(0,10)\n",
        "\n",
        "# Learning rate \"a\". Large values of \"a\" will cause overshooting of the optimizer.\n",
        "a = 0.2\n",
        "\n",
        "for i in range(10):\n",
        "  l_sum = 0\n",
        "  accuracy = 0\n",
        "  for x_val, y_val in zip(x_data, y_data):\n",
        "    l = loss(x_val,y_val,w)\n",
        "\n",
        "    # Gradien Descent step\n",
        "    w = w - a*grad(w, x_val, y_val)\n",
        "    \n",
        "    accuracy += abs((forward(x_val, w) - y_val))\n",
        "    l_sum += l\n",
        "  loss_all.append(l_sum / len(x_data))\n",
        "  accuracy_all.append(100 - (accuracy / len(x_data)))  \n",
        "  w_all.append(w)\n",
        "  step.append(i)"
      ],
      "execution_count": 0,
      "outputs": []
    },
    {
      "cell_type": "code",
      "metadata": {
        "id": "FnHXEMLXK9Xg",
        "colab_type": "code",
        "colab": {
          "base_uri": "https://localhost:8080/",
          "height": 279
        },
        "outputId": "642d9212-a8d1-433d-9b4d-15eab9d36d36"
      },
      "source": [
        "# Plotting steps vs loss vs weights\n",
        "plt.plot(step, loss_all, label=\"Loss\")\n",
        "plt.plot(step, w_all, label=\"Weights\")\n",
        "plt.plot(step, accuracy_all, label=\"Train Accuracy\")\n",
        "plt.xlabel(\"Steps\")\n",
        "plt.grid(\"on\")\n",
        "plt.legend()\n",
        "plt.show()"
      ],
      "execution_count": 261,
      "outputs": [
        {
          "output_type": "display_data",
          "data": {
            "image/png": "[encoded data removed]",
            "text/plain": [
              "<Figure size 432x288 with 1 Axes>"
            ]
          },
          "metadata": {
            "tags": []
          }
        }
      ]
    },
    {
      "cell_type": "code",
      "metadata": {
        "id": "O6tSd-SzPJFf",
        "colab_type": "code",
        "colab": {}
      },
      "source": [
        "# Slightly more complex hypothesis --> y = (x^2)*(w_1) + (x)*(w_2) + b\n",
        "\n",
        "# Forward Pass\n",
        "def forward(x, w1, w2, b):\n",
        "  return (x**2)*w1 + x*w2 + b\n",
        "\n",
        "# Loss function\n",
        "def loss(x, y, w1, w2, b):\n",
        "  y_pred = forward(x, w1, w2, b)\n",
        "  return (y_pred - y)*(y_pred - y)\n",
        "\n",
        "# Compute Gradient\n",
        "def grad(w1, w2, b, x, y):\n",
        "  return 2*((x**2)*w1 + x*w2 + b - y)*((x**2) + x)"
      ],
      "execution_count": 0,
      "outputs": []
    },
    {
      "cell_type": "code",
      "metadata": {
        "id": "m76E4_o1THqX",
        "colab_type": "code",
        "colab": {}
      },
      "source": [
        "loss_all = []\n",
        "w1_all = []\n",
        "w2_all = []\n",
        "step = []\n",
        "accuracy_all = []\n",
        "\n",
        "# Start with Random weight \"w1\",\"w2\" and random bias \"b\" selected from a Gaussian Distribution\n",
        "w1 = gauss(0,10)\n",
        "w2 = gauss(0,10)\n",
        "b = gauss(0,1)\n",
        "\n",
        "# Learning rate \"a\". Large values of \"a\" will cause overshooting of the optimizer.\n",
        "a = 0.2\n",
        "\n",
        "for i in range(10):\n",
        "  l_sum = 0\n",
        "  accuracy = 0\n",
        "  for x_val, y_val in zip(x_data, y_data):\n",
        "    l = loss(x_val, y_val, w1, w2, b)\n",
        "\n",
        "    # Gradien Descent step\n",
        "    w1 = w1 - a*grad(w1, w2, b, x_val, y_val)\n",
        "    w2 = w2 - a*grad(w1, w2, b, x_val, y_val)\n",
        "    \n",
        "    accuracy += abs((forward(x_val, w1, w2, b) - y_val))\n",
        "    l_sum += l\n",
        "  loss_all.append(l_sum / len(x_data))\n",
        "  accuracy_all.append(100 - (accuracy / len(x_data)))  \n",
        "  w1_all.append(w1)\n",
        "  w2_all.append(w2)\n",
        "  step.append(i)"
      ],
      "execution_count": 0,
      "outputs": []
    },
    {
      "cell_type": "code",
      "metadata": {
        "id": "5ZxxP7yYVoAl",
        "colab_type": "code",
        "colab": {
          "base_uri": "https://localhost:8080/",
          "height": 279
        },
        "outputId": "55972d95-4ec9-4811-dcae-399e36ed2971"
      },
      "source": [
        "# Plotting steps vs loss vs weights\n",
        "plt.plot(step, loss_all, label=\"Loss\")\n",
        "plt.plot(step, w1_all, label=\"$W_1$\")\n",
        "plt.plot(step, w2_all, label=\"$W_2$\")\n",
        "plt.plot(step, accuracy_all, label=\"Train Accuracy\")\n",
        "plt.xlabel(\"Steps\")\n",
        "plt.grid(\"on\")\n",
        "plt.legend()\n",
        "plt.show()"
      ],
      "execution_count": 264,
      "outputs": [
        {
          "output_type": "display_data",
          "data": {
            "image/png": "[encoded data removed]",
            "text/plain": [
              "<Figure size 432x288 with 1 Axes>"
            ]
          },
          "metadata": {
            "tags": []
          }
        }
      ]
    }
  ]
}