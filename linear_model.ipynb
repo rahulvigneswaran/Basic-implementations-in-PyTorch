{
  "nbformat": 4,
  "nbformat_minor": 0,
  "metadata": {
    "colab": {
      "name": "linear_model.ipynb",
      "provenance": [],
      "authorship_tag": "ABX9TyOBugnKARN1LojVIBpyyO+/",
      "include_colab_link": true
    },
    "kernelspec": {
      "name": "python3",
      "display_name": "Python 3"
    },
    "accelerator": "GPU"
  },
  "cells": [
    {
      "cell_type": "markdown",
      "metadata": {
        "id": "view-in-github",
        "colab_type": "text"
      },
      "source": [
        "<a href=\"https://colab.research.google.com/github/rahulvigneswaran/Basic-implementations-in-PyTorch/blob/master/linear_model.ipynb\" target=\"_parent\"><img src=\"https://colab.research.google.com/assets/colab-badge.svg\" alt=\"Open In Colab\"/></a>"
      ]
    },
    {
      "cell_type": "code",
      "metadata": {
        "id": "6GITqzhzC0IN",
        "colab_type": "code",
        "colab": {}
      },
      "source": [
        "# Importing Libraries\n",
        "import numpy as np\n",
        "import matplotlib.pyplot as plt\n",
        "%matplotlib inline"
      ],
      "execution_count": 0,
      "outputs": []
    },
    {
      "cell_type": "code",
      "metadata": {
        "id": "-GacJSt68ban",
        "colab_type": "code",
        "colab": {}
      },
      "source": [
        "# Functions\n",
        "def forward(x,w):\n",
        "  return x*w\n",
        "\n",
        "def loss(x,y,w):\n",
        "  y_pred = forward(x,w)\n",
        "  return (y_pred - y)*(y_pred - y)"
      ],
      "execution_count": 0,
      "outputs": []
    },
    {
      "cell_type": "code",
      "metadata": {
        "id": "-KeCYDSRGbxN",
        "colab_type": "code",
        "colab": {}
      },
      "source": [
        "# Dataset\n",
        "x_data = np.random.randint(2, size=10)\n",
        "y_data = np.random.randint(5, size=10)"
      ],
      "execution_count": 0,
      "outputs": []
    },
    {
      "cell_type": "code",
      "metadata": {
        "id": "3TMYWxsvGe_1",
        "colab_type": "code",
        "colab": {}
      },
      "source": [
        "# Initializing lists\n",
        "loss_all = []\n",
        "w_all = []"
      ],
      "execution_count": 0,
      "outputs": []
    },
    {
      "cell_type": "code",
      "metadata": {
        "id": "Wd-tbRXXGgzt",
        "colab_type": "code",
        "colab": {}
      },
      "source": [
        "# Calculating loss for a range of weights \"w\"\n",
        "for w in np.arange(0.0, 4.1, 0.1):\n",
        "  l_sum = 0\n",
        "  for x_val, y_val in zip(x_data, y_data):\n",
        "    l = loss(x_val,y_val,w)\n",
        "    l_sum += l\n",
        "  loss_all.append(l_sum / len(x_data))  \n",
        "  w_all.append(w)"
      ],
      "execution_count": 0,
      "outputs": []
    },
    {
      "cell_type": "code",
      "metadata": {
        "id": "jFqLvTRZGlie",
        "colab_type": "code",
        "colab": {
          "base_uri": "https://localhost:8080/",
          "height": 279
        },
        "outputId": "beb1c4eb-5a21-4bf7-d6f0-fa75081aa0ed"
      },
      "source": [
        "# Plotting weight vs loss\n",
        "plt.plot(w_all,loss_all, label=\"Loss\")\n",
        "plt.xlabel(\"Weights\")\n",
        "plt.ylabel(\"Loss\")\n",
        "plt.grid(\"on\")\n",
        "plt.legend()\n",
        "plt.show()"
      ],
      "execution_count": 6,
      "outputs": [
        {
          "output_type": "display_data",
          "data": {
            "image/png": "[encoded data removed]",
            "text/plain": [
              "<Figure size 432x288 with 1 Axes>"
            ]
          },
          "metadata": {
            "tags": []
          }
        }
      ]
    }
  ]
}